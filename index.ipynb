{
  "cells": [
    {
      "cell_type": "raw",
      "metadata": {},
      "source": [
        "---\n",
        "title: \"Jackson Marsh\"\n",
        "image: \"/Users/jacksonmarsh/Downloads/8f69d486-c419-4864-8519-21af48366cda.jpeg\"\n",
        "toc: false\n",
        "about: \n",
        "  template: jolla\n",
        "  image-shape: rectangle\n",
        "  image-width: 17em\n",
        "  links:\n",
        "    - text: LinkedIn\n",
        "      href: www.linkedin.com/in/jackson-marsh1\n",
        "    - text: GitHub\n",
        "      href: https://github.com/JMarsh2467\n",
        "    - text: Email\n",
        "      href: jmarsh2467@gmail\n",
        "---"
      ],
      "id": "6ee82108"
    },
    {
      "cell_type": "markdown",
      "metadata": {},
      "source": [
        "```{My name is Jackson Marsh and I am a current senior at St. Olaf College. I am majoring in Biology with a concentration in statistics and data science.}\n",
        "\n",
        "## Education \n",
        "```"
      ],
      "id": "38d4bfb0"
    }
  ],
  "metadata": {
    "kernelspec": {
      "display_name": "Python 3",
      "language": "python",
      "name": "python3"
    }
  },
  "nbformat": 4,
  "nbformat_minor": 5
}